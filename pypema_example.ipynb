{
 "cells": [
  {
   "cell_type": "markdown",
   "metadata": {},
   "source": [
    "# Running PyPEMA"
   ]
  },
  {
   "cell_type": "markdown",
   "metadata": {},
   "source": [
    "This notebook exemplifies how to run PyPEMA using an interactive environment such as IPython. PyPEMA computes the principal Elementary Modes, providing an Elementary Mode matrix (EM) and a matrix of flux states (X). PyPEMA also provides several vizualization tools to interpret the results. All these steps will be exemplified in this script.\n",
    "\n",
    "Please consult the documentation for further details about the PEMA algorithm."
   ]
  },
  {
   "cell_type": "code",
   "execution_count": null,
   "metadata": {},
   "outputs": [],
   "source": [
    "# PyPEMA modules required\n",
    "from pema import pypema\n",
    "from pema import plotfuncs\n",
    "from pema import dataio\n",
    "\n",
    "# Other required libraries\n",
    "import numpy as np"
   ]
  },
  {
   "cell_type": "code",
   "execution_count": null,
   "metadata": {},
   "outputs": [],
   "source": [
    "# First, define the PyPEMA parameters\n",
    "nrel = 5\n",
    "nbranch = 3\n",
    "maxPEMs = 10"
   ]
  },
  {
   "cell_type": "code",
   "execution_count": null,
   "metadata": {},
   "outputs": [],
   "source": [
    "# The input data should be a numpy 2D-array for the flux and elementary mode matrices (X and EM respectively). \n",
    "# PyPEMA includes an example MAT file containing both matrices in ./data/ecoli.mat. \n",
    "# The module dataio.py contains an utility that handles the conversion of X and EM to a numpy array.\n",
    "datafile = './data/ecoli.mat'\n",
    "\n",
    "# Convert the .mat file into the X and EM matrices\n",
    "X, EM = dataio.load_matfile(datafile)"
   ]
  },
  {
   "cell_type": "code",
   "execution_count": null,
   "metadata": {},
   "outputs": [],
   "source": [
    "# To run PyPEMA, execute the function \"run\" in the pypema module.\n",
    "# Inputs:\n",
    "#   - X (ndarray): data matrix of measured flux distributions\n",
    "#   - EM (ndarray): matrix of elementary modes for the metabolic network under analysis\n",
    "#   - nrel (int): parameter regulating the number of branch points in the PEMA algorithm (see documentation for details)\n",
    "#   - nbranch (int): parameter regulating the number of branch points in the PEMA algorithm (see documentation for details)\n",
    "#   - maxPEMs (int): parameter regulating the maximum number of Principal Elementary Modes to be extracted from the data\n",
    "#   - save_output (Boolean): if True, saves the output in ASCII format (default is False)\n",
    "#\n",
    "# Output:\n",
    "#   - result (ndarray): a 2D-numpy array with the first column representing the percentage of explained variance for each\n",
    "#                     set of extracted Principal Elementary Modes, with the following rows containing the index of a\n",
    "#                     correspondent Principal Elementary Mode.\n",
    "result = pypema.run(X, EM, nrel, nbranch, maxPEMs)\n"
   ]
  },
  {
   "cell_type": "markdown",
   "metadata": {},
   "source": [
    "# Plot functions"
   ]
  },
  {
   "cell_type": "markdown",
   "metadata": {},
   "source": [
    "Several plotting functions were included in the plotfuncs module to aid in the analysis of the Principal Elementary Modes computed with PyPEMA. "
   ]
  },
  {
   "cell_type": "code",
   "execution_count": null,
   "metadata": {},
   "outputs": [],
   "source": [
    "# The scree plot shows the percentage of explained variance in the data as function of the number of PEMs computed.\n",
    "plotfuncs.scree_plot(result)"
   ]
  },
  {
   "cell_type": "code",
   "execution_count": null,
   "metadata": {},
   "outputs": [],
   "source": [
    "# Based on the information provided by the scree plot, a number of Principal Elementary Modes can be selected for\n",
    "# a given degree of compression of the original data. We can pick any solution set of PEMs obtained with PyPEMA from\n",
    "# the results array to construct several analysis plots. To select the PEMs set with the maximum explained variance:\n",
    "PEM_list = np.int64(result[-1, 1:])"
   ]
  },
  {
   "cell_type": "code",
   "execution_count": null,
   "metadata": {},
   "outputs": [],
   "source": [
    "# Plot the PEM weights against the flux variables. This plot shows the explained variance for\n",
    "# each individual PEM in the chosen solution. This function also computes the degree of orthogonality of the PEMs list\n",
    "plotfuncs.weights_vars(X, EM, PEM_list)"
   ]
  },
  {
   "cell_type": "code",
   "execution_count": null,
   "metadata": {},
   "outputs": [],
   "source": [
    "# Weights plot. The columns represent a PEM solution in PEM_list and the rows represent the scenarios in the flux data.\n",
    "# Two plots are built here. The first represent the actual values of each PEM and the second a binary plot with a value\n",
    "# of 1 for any nonzero value and 0 for zero values.\n",
    "plotfuncs.weighting_plot(X, EM, PEM_list)"
   ]
  },
  {
   "cell_type": "code",
   "execution_count": null,
   "metadata": {},
   "outputs": [],
   "source": [
    "# Plot of observed fluxes vs predicted fluxes (recovered by the PEMs). This plot is an assessment of the accuracy of\n",
    "# extracted PEMs to reconstruct the data set.\n",
    "plotfuncs.obs_vs_pred(X, EM, PEM_list)"
   ]
  },
  {
   "cell_type": "code",
   "execution_count": null,
   "metadata": {},
   "outputs": [],
   "source": [
    "# PEM plots. The columns represent a solution of PEMs defined by the PEM_list. The rows represent the fluxes of the \n",
    "# metabolic network. A binary plot is also represented to emphasize zero and nonzero values. This is useful to assess,\n",
    "# which reactions have metabolic activity.\n",
    "plotfuncs.pem_plot(X, EM, PEM_list)"
   ]
  },
  {
   "cell_type": "code",
   "execution_count": null,
   "metadata": {},
   "outputs": [],
   "source": [
    "# Explained variance per observations plot. This plot shows the contribution of each data example for the \n",
    "# explained variance\n",
    "plotfuncs.variance_obs(X, EM, PEM_list)"
   ]
  },
  {
   "cell_type": "code",
   "execution_count": null,
   "metadata": {},
   "outputs": [],
   "source": []
  }
 ],
 "metadata": {
  "kernelspec": {
   "display_name": "pypema",
   "language": "python",
   "name": "pypema"
  },
  "language_info": {
   "codemirror_mode": {
    "name": "ipython",
    "version": 3
   },
   "file_extension": ".py",
   "mimetype": "text/x-python",
   "name": "python",
   "nbconvert_exporter": "python",
   "pygments_lexer": "ipython3",
   "version": "3.6.5"
  }
 },
 "nbformat": 4,
 "nbformat_minor": 2
}
